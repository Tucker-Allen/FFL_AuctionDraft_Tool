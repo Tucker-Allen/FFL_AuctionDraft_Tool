{
 "cells": [
  {
   "cell_type": "code",
   "execution_count": 1,
   "metadata": {},
   "outputs": [],
   "source": [
    "slots = ['QB', 'RB1', 'RB2', 'WR1', 'WR2', 'TE', 'FLX', 'D/ST', 'K', 'BE1', 'BE2', 'BE3', 'BE4', 'BE5', 'BE6']\n",
    "\n",
    "# To be updated\n",
    "fantasy_teams = ['Local Florida Man', 'Willie Loman', 'Mark Andrews']\n",
    "\n",
    "master_dict = {}\n",
    "\n",
    "#intialize dicts\n",
    "for fantasy_team in fantasy_teams:\n",
    "    master_dict[fantasy_team] = {}\n",
    "    master_dict[fantasy_team]['budget'] = 200\n",
    "    master_dict[fantasy_team]['empty_slots'] = 15\n",
    "    master_dict[fantasy_team]['slots'] = {}\n",
    "    for slot in slots:\n",
    "        master_dict[fantasy_team]['slots'][slot] = {'Player': None,\n",
    "                                                    'Position': None,\n",
    "                                                    'Price_Paid': 0}\n",
    "\n",
    "bench_heir = ['BE1', 'BE2', 'BE3', 'BE4', 'BE5', 'BE6']\n",
    "rb_heir =    ['RB1', 'RB2'] + bench_heir\n",
    "wr_heir =    ['WR1', 'WR2'] + bench_heir\n",
    "qb_heir =    ['QB']         + bench_heir\n",
    "te_heir =    ['TE']         + bench_heir\n",
    "dst_heir =   ['D/ST']       + bench_heir\n",
    "\n",
    "heir_dict = {'RB':   rb_heir,\n",
    "             'WR':   wr_heir,\n",
    "             'QB':   qb_heir,\n",
    "             'TE':   te_heir,\n",
    "             'D/ST': dst_heir}"
   ]
  },
  {
   "cell_type": "code",
   "execution_count": 19,
   "metadata": {},
   "outputs": [],
   "source": [
    "players = {'DeSean Jackson, WAS': {'name': 'DeSean Jackson, WAS', 'position': 'WR', 'pre_draft$': 13},\n",
    "           'Tom Brady, NEP':   {'name': 'Tom Brady, NEP',   'position': 'QB', 'pre_draft$': 15},\n",
    "           'Jimmy Graham, GNB':   {'name': 'Jimmy Graham, GNB',   'position': 'TE', 'pre_draft$': 10},\n",
    "           'Jamison Crowder, WAS':   {'name': 'Jamison Crowder, WAS',   'position': 'WR', 'pre_draft$': 12},\n",
    "           'LeVeon Bell, NYJ':   {'name': 'LeVeon Bell, NYJ',   'position': 'RB', 'pre_draft$': 50},\n",
    "           'Mark Ingram, BAL':   {'name': 'Mark Ingram, BAL',   'position': 'RB', 'pre_draft$': 35},\n",
    "           'Odell Beckham, CLE':   {'name': 'Odell Beckham, CLE',   'position': 'WR', 'pre_draft$': 65},\n",
    "           'Joe Mixon, CIN':   {'name': 'Joe Mixon, CIN',   'position': 'RB', 'pre_draft$': 30},\n",
    "           'James Conner, PIT':   {'name': 'James Conner, PIT',   'position': 'RB', 'pre_draft$': 15},\n",
    "           'Lou FakeGuy, XYZ':   {'name': 'Lou FakeGuy, XYZ',   'position': 'RB', 'pre_draft$': 80}}"
   ]
  },
  {
   "cell_type": "code",
   "execution_count": 20,
   "metadata": {},
   "outputs": [
    {
     "data": {
      "text/plain": [
       "{'name': 'DeSean Jackson, WAS', 'position': 'WR', 'pre_draft$': 13}"
      ]
     },
     "execution_count": 20,
     "metadata": {},
     "output_type": "execute_result"
    }
   ],
   "source": [
    "a_player = players['DeSean Jackson, WAS']\n",
    "a_player"
   ]
  },
  {
   "cell_type": "code",
   "execution_count": 4,
   "metadata": {},
   "outputs": [
    {
     "data": {
      "text/plain": [
       "{'budget': 200,\n",
       " 'empty_slots': 15,\n",
       " 'slots': {'QB': {'Player': None, 'Position': None, 'Price_Paid': 0},\n",
       "  'RB1': {'Player': None, 'Position': None, 'Price_Paid': 0},\n",
       "  'RB2': {'Player': None, 'Position': None, 'Price_Paid': 0},\n",
       "  'WR1': {'Player': None, 'Position': None, 'Price_Paid': 0},\n",
       "  'WR2': {'Player': None, 'Position': None, 'Price_Paid': 0},\n",
       "  'TE': {'Player': None, 'Position': None, 'Price_Paid': 0},\n",
       "  'FLX': {'Player': None, 'Position': None, 'Price_Paid': 0},\n",
       "  'D/ST': {'Player': None, 'Position': None, 'Price_Paid': 0},\n",
       "  'K': {'Player': None, 'Position': None, 'Price_Paid': 0},\n",
       "  'BE1': {'Player': None, 'Position': None, 'Price_Paid': 0},\n",
       "  'BE2': {'Player': None, 'Position': None, 'Price_Paid': 0},\n",
       "  'BE3': {'Player': None, 'Position': None, 'Price_Paid': 0},\n",
       "  'BE4': {'Player': None, 'Position': None, 'Price_Paid': 0},\n",
       "  'BE5': {'Player': None, 'Position': None, 'Price_Paid': 0},\n",
       "  'BE6': {'Player': None, 'Position': None, 'Price_Paid': 0}}}"
      ]
     },
     "execution_count": 4,
     "metadata": {},
     "output_type": "execute_result"
    }
   ],
   "source": [
    "master_dict['Mark Andrews']"
   ]
  },
  {
   "cell_type": "code",
   "execution_count": 17,
   "metadata": {},
   "outputs": [],
   "source": [
    "def player_up(a_player: str):\n",
    "    # Need to autocomplete a_player\n",
    "    name = players[a_player]['name']\n",
    "    pos = players[a_player]['position']\n",
    "    pre_draft = players[a_player]['pre_draft$']\n",
    "    \n",
    "    competing_teams = []\n",
    "    for fantasy_team in fantasy_teams:\n",
    "        max_bid = master_dict[fantasy_team]['budget'] - ( (master_dict[fantasy_team]['empty_slots']-1) *1)\n",
    "        if pos in ['QB', 'D/ST', 'K']:\n",
    "            if not master_dict[fantasy_team]['slots'][pos]['Player']:\n",
    "                competing_teams.append( (fantasy_team, max_bid, 1, 0) )\n",
    "            \n",
    "        if pos == 'TE':\n",
    "            te_count = 0\n",
    "            flx_count = 0\n",
    "            if not master_dict[fantasy_team]['slots']['TE']['Player']:\n",
    "                te_count = 1\n",
    "            if not master_dict[fantasy_team]['slots']['FLX']['Player']:\n",
    "                flx_count = 1\n",
    "            if te_count or flx_count:\n",
    "                competing_teams.append( (fantasy_team, max_bid, te_count, flx_count) )\n",
    "            \n",
    "        if pos == 'RB':\n",
    "            rb_count = 0\n",
    "            flx_count = 0\n",
    "            for slot in ['RB1', 'RB2']:\n",
    "                if not master_dict[fantasy_team]['slots'][slot]['Player']:\n",
    "                    rb_count += 1\n",
    "            if not master_dict[fantasy_team]['slots']['FLX']['Player']:\n",
    "                    flx_count = 1\n",
    "            if rb_count or flx_count:\n",
    "                competing_teams.append( (fantasy_team, max_bid, rb_count, flx_count) )\n",
    "                \n",
    "        if pos == 'WR':\n",
    "            wr_count = 0\n",
    "            flx_count = 0\n",
    "            for slot in ['WR1', 'WR2']:\n",
    "                if not master_dict[fantasy_team]['slots'][slot]['Player']:\n",
    "                    wr_count += 1\n",
    "            if not master_dict[fantasy_team]['slots']['FLX']['Player']:\n",
    "                    flx_count = 1\n",
    "            if wr_count or flx_count:\n",
    "                competing_teams.append( (fantasy_team, max_bid, wr_count, flx_count) )\n",
    "    \n",
    "    sorted_competing_teams = sorted(competing_teams, key = lambda x: (x[2], x[1], x[3]), reverse=True)\n",
    "    # display something useful\n",
    "    return sorted_competing_teams"
   ]
  },
  {
   "cell_type": "code",
   "execution_count": 18,
   "metadata": {},
   "outputs": [
    {
     "data": {
      "text/plain": [
       "[('Willie Loman', 186, 2, 1),\n",
       " ('Local Florida Man', 184, 1, 1),\n",
       " ('Mark Andrews', 142, 1, 1)]"
      ]
     },
     "execution_count": 18,
     "metadata": {},
     "output_type": "execute_result"
    }
   ],
   "source": [
    "my_list = player_up('DeSean Jackson, WAS')\n",
    "my_list"
   ]
  },
  {
   "cell_type": "code",
   "execution_count": 8,
   "metadata": {},
   "outputs": [],
   "source": [
    "def player_bought(player: dict, fantasy_team: str, price_paid: int):\n",
    "    print('Begin player_bought...')\n",
    "    master_dict[fantasy_team]['budget'] -= price_paid\n",
    "    master_dict[fantasy_team]['empty_slots'] -= 1\n",
    "    opp_budget = refresh_total_opp_budget()\n",
    "    print('Begin insert_player...')\n",
    "    insert_player(player, fantasy_team, price_paid)\n",
    "    print('Total Opponent Budget: ', opp_budget)\n",
    "                \n",
    "    # player will come from player_up\n",
    "    # Need to autocomplete team\n",
    "    # Update Rosters. Update Total Opp. $ left and Max Bid $ left"
   ]
  },
  {
   "cell_type": "code",
   "execution_count": 9,
   "metadata": {},
   "outputs": [],
   "source": [
    "def refresh_total_opp_budget():\n",
    "    total_opp_budget = 0\n",
    "    for team in fantasy_teams:\n",
    "        if team != 'Local Florida Man':\n",
    "            total_opp_budget += master_dict[team]['budget']\n",
    "    return total_opp_budget"
   ]
  },
  {
   "cell_type": "code",
   "execution_count": 10,
   "metadata": {},
   "outputs": [
    {
     "data": {
      "text/plain": [
       "{'RB': ['RB1', 'RB2', 'BE1', 'BE2', 'BE3', 'BE4', 'BE5', 'BE6'],\n",
       " 'WR': ['WR1', 'WR2', 'BE1', 'BE2', 'BE3', 'BE4', 'BE5', 'BE6'],\n",
       " 'QB': ['QB', 'BE1', 'BE2', 'BE3', 'BE4', 'BE5', 'BE6'],\n",
       " 'TE': ['TE', 'BE1', 'BE2', 'BE3', 'BE4', 'BE5', 'BE6'],\n",
       " 'D/ST': ['D/ST', 'BE1', 'BE2', 'BE3', 'BE4', 'BE5', 'BE6']}"
      ]
     },
     "execution_count": 10,
     "metadata": {},
     "output_type": "execute_result"
    }
   ],
   "source": [
    "heir_dict"
   ]
  },
  {
   "cell_type": "code",
   "execution_count": 11,
   "metadata": {},
   "outputs": [],
   "source": [
    "def insert_player(player: dict, fantasy_team: str, price_paid: int):\n",
    "       \n",
    "    for slot in heir_dict[player['position']]:\n",
    "        print('looking at slot: ', slot)\n",
    "        # Make sure that this player belongs in this spot, top-down\n",
    "        if price_paid > master_dict[fantasy_team]['slots'][slot]['Price_Paid']:\n",
    "            print('Insert found, existing price: ', master_dict[fantasy_team]['slots'][slot]['Price_Paid'], ' price_paid: ', price_paid)\n",
    "            # If this slot is already empty, insert it and do nothing\n",
    "            if not master_dict[fantasy_team]['slots'][slot]['Player']:\n",
    "                print('Slot was found empty, inserting and breaking')\n",
    "                master_dict[fantasy_team]['slots'][slot]['Player'] = player['name']\n",
    "                master_dict[fantasy_team]['slots'][slot]['Position'] = player['position']\n",
    "                master_dict[fantasy_team]['slots'][slot]['Price_Paid'] = price_paid\n",
    "                break\n",
    "            # Otherwise, copy what's in there to temp, insert it, and begin shift_down\n",
    "            temp_player = master_dict[fantasy_team]['slots'][slot].copy()\n",
    "            print('Inserting, while temp_player: ', temp_player)\n",
    "            master_dict[fantasy_team]['slots'][slot]['Player'] = player['name']\n",
    "            master_dict[fantasy_team]['slots'][slot]['Position'] = player['position']\n",
    "            master_dict[fantasy_team]['slots'][slot]['Price_Paid'] = price_paid\n",
    "            \n",
    "            print('Enter shift_down')\n",
    "            shift_the_rest_down(temp_player, heir_dict[player['position']], slot, fantasy_team, price_paid)\n",
    "            # Once done with recursive shift_down, we're done\n",
    "            break"
   ]
  },
  {
   "cell_type": "code",
   "execution_count": 12,
   "metadata": {},
   "outputs": [],
   "source": [
    "def shift_the_rest_down(this_player, heir_list, last_slot, fantasy_team, price_paid):\n",
    "    try:\n",
    "        print('Shift: Try on line 3')\n",
    "        next_slot = heir_list[ heir_list.index(last_slot) + 1 ]\n",
    "        print('Shift: Next_slot: ', next_slot)\n",
    "\n",
    "        # If a slot we're sliding into is empty, assign it then stop\n",
    "        if not master_dict[fantasy_team]['slots'][next_slot]['Player']:\n",
    "            print('Shift: Empty Player found, inserting and returning')\n",
    "            master_dict[fantasy_team]['slots'][next_slot] = this_player\n",
    "            return\n",
    "        \n",
    "        # Otherwise, grab the temp, insert the last, and shift again\n",
    " \n",
    "        temp_player = master_dict[fantasy_team]['slots'][next_slot].copy()\n",
    "        print('Shift: temp_player: ', temp_player, ' from ', next_slot)\n",
    "        print('Shift: inserting this_player: ', this_player, ' into ', next_slot)\n",
    "        master_dict[fantasy_team]['slots'][next_slot] = this_player\n",
    "        print('Shift: Next shift_down')\n",
    "        print(temp_player)\n",
    "        print(heir_list)\n",
    "        print(next_slot)\n",
    "        print(fantasy_team)\n",
    "        \n",
    "        shift_the_rest_down(temp_player, heir_list, next_slot, fantasy_team, price_paid)\n",
    "            \n",
    "    except IndexError:\n",
    "        print('Index Error, Done')\n",
    "    except:\n",
    "        print('Some other Error, something broke')"
   ]
  },
  {
   "cell_type": "code",
   "execution_count": 14,
   "metadata": {},
   "outputs": [
    {
     "name": "stdout",
     "output_type": "stream",
     "text": [
      "Begin player_bought...\n",
      "Begin insert_player...\n",
      "looking at slot:  WR1\n",
      "Insert found, existing price:  0  price_paid:  45\n",
      "Slot was found empty, inserting and breaking\n",
      "Total Opponent Budget:  355\n"
     ]
    },
    {
     "data": {
      "text/plain": [
       "{'budget': 197,\n",
       " 'empty_slots': 14,\n",
       " 'slots': {'QB': {'Player': None, 'Position': None, 'Price_Paid': 0},\n",
       "  'RB1': {'Player': None, 'Position': None, 'Price_Paid': 0},\n",
       "  'RB2': {'Player': None, 'Position': None, 'Price_Paid': 0},\n",
       "  'WR1': {'Player': 'DeSean Jackson, WAS', 'Position': 'WR', 'Price_Paid': 3},\n",
       "  'WR2': {'Player': None, 'Position': None, 'Price_Paid': 0},\n",
       "  'TE': {'Player': None, 'Position': None, 'Price_Paid': 0},\n",
       "  'FLX': {'Player': None, 'Position': None, 'Price_Paid': 0},\n",
       "  'D/ST': {'Player': None, 'Position': None, 'Price_Paid': 0},\n",
       "  'K': {'Player': None, 'Position': None, 'Price_Paid': 0},\n",
       "  'BE1': {'Player': None, 'Position': None, 'Price_Paid': 0},\n",
       "  'BE2': {'Player': None, 'Position': None, 'Price_Paid': 0},\n",
       "  'BE3': {'Player': None, 'Position': None, 'Price_Paid': 0},\n",
       "  'BE4': {'Player': None, 'Position': None, 'Price_Paid': 0},\n",
       "  'BE5': {'Player': None, 'Position': None, 'Price_Paid': 0},\n",
       "  'BE6': {'Player': None, 'Position': None, 'Price_Paid': 0}}}"
      ]
     },
     "execution_count": 14,
     "metadata": {},
     "output_type": "execute_result"
    }
   ],
   "source": [
    "player_bought({'name': 'DeSean Jackson, WAS', 'position': 'WR', 'pre_draft$': 10}, 'Mark Andrews', 45)\n",
    "master_dict['Local Florida Man']"
   ]
  },
  {
   "cell_type": "code",
   "execution_count": null,
   "metadata": {},
   "outputs": [],
   "source": [
    "from pprint import pprint"
   ]
  },
  {
   "cell_type": "code",
   "execution_count": 24,
   "metadata": {},
   "outputs": [
    {
     "data": {
      "text/plain": [
       "{'name': 'DeSean Jackson, WAS', 'position': 'WR', 'pre_draft$': 13}"
      ]
     },
     "execution_count": 24,
     "metadata": {},
     "output_type": "execute_result"
    }
   ],
   "source": [
    "players.pop('DeSean Jackson, WAS')"
   ]
  },
  {
   "cell_type": "code",
   "execution_count": 25,
   "metadata": {},
   "outputs": [
    {
     "data": {
      "text/plain": [
       "{'Tom Brady, NEP': {'name': 'Tom Brady, NEP',\n",
       "  'position': 'QB',\n",
       "  'pre_draft$': 15},\n",
       " 'Jimmy Graham, GNB': {'name': 'Jimmy Graham, GNB',\n",
       "  'position': 'TE',\n",
       "  'pre_draft$': 10},\n",
       " 'Jamison Crowder, WAS': {'name': 'Jamison Crowder, WAS',\n",
       "  'position': 'WR',\n",
       "  'pre_draft$': 12},\n",
       " 'LeVeon Bell, NYJ': {'name': 'LeVeon Bell, NYJ',\n",
       "  'position': 'RB',\n",
       "  'pre_draft$': 50},\n",
       " 'Mark Ingram, BAL': {'name': 'Mark Ingram, BAL',\n",
       "  'position': 'RB',\n",
       "  'pre_draft$': 35},\n",
       " 'Odell Beckham, CLE': {'name': 'Odell Beckham, CLE',\n",
       "  'position': 'WR',\n",
       "  'pre_draft$': 65},\n",
       " 'Joe Mixon, CIN': {'name': 'Joe Mixon, CIN',\n",
       "  'position': 'RB',\n",
       "  'pre_draft$': 30},\n",
       " 'James Conner, PIT': {'name': 'James Conner, PIT',\n",
       "  'position': 'RB',\n",
       "  'pre_draft$': 15},\n",
       " 'Lou FakeGuy, XYZ': {'name': 'Lou FakeGuy, XYZ',\n",
       "  'position': 'RB',\n",
       "  'pre_draft$': 80}}"
      ]
     },
     "execution_count": 25,
     "metadata": {},
     "output_type": "execute_result"
    }
   ],
   "source": [
    "players"
   ]
  },
  {
   "cell_type": "code",
   "execution_count": null,
   "metadata": {},
   "outputs": [],
   "source": []
  }
 ],
 "metadata": {
  "kernelspec": {
   "display_name": "Python 3",
   "language": "python",
   "name": "python3"
  },
  "language_info": {
   "codemirror_mode": {
    "name": "ipython",
    "version": 3
   },
   "file_extension": ".py",
   "mimetype": "text/x-python",
   "name": "python",
   "nbconvert_exporter": "python",
   "pygments_lexer": "ipython3",
   "version": "3.7.2"
  }
 },
 "nbformat": 4,
 "nbformat_minor": 2
}
